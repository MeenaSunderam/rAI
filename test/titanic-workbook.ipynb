{
 "cells": [
  {
   "cell_type": "markdown",
   "id": "32e7ba4a-aa3d-468b-99cb-61d38cf7ed8a",
   "metadata": {},
   "source": [
    "## Model Developement - Use Case :  Titanic"
   ]
  },
  {
   "cell_type": "markdown",
   "id": "1785a538-16c3-4b11-9107-d5bef1eb2bc4",
   "metadata": {},
   "source": [
    "### Import RAI libary"
   ]
  },
  {
   "cell_type": "code",
   "execution_count": null,
   "id": "fb63ea70-7cf2-44b6-b8d4-11ccd12bb26d",
   "metadata": {},
   "outputs": [],
   "source": [
    "import numpy as np # linear algebra\n",
    "import pandas as pd # data processing, CSV file I/O (e.g. pd.read_csv)\n",
    "\n",
    "from sklearn import preprocessing\n",
    "\n",
    "import torch\n",
    "import torch.nn as nn\n",
    "import torch.nn.functional as F \n",
    "import torch.optim as optim\n",
    "from torch.utils.data import Dataset, DataLoader "
   ]
  },
  {
   "cell_type": "code",
   "execution_count": null,
   "id": "1a5d6939-cfac-4caa-988c-22648667e0e6",
   "metadata": {},
   "outputs": [],
   "source": [
    "#from responsibleML import base_rai_model as sklearnmodel\n",
    "#from responsibleML import rai_models\n",
    "#from responsibleML import ProblemType\n",
    "#from responsibleML import ModelFramework\n",
    "#from responsibleML import pytorch_model as pytorchmodel"
   ]
  },
  {
   "cell_type": "code",
   "execution_count": null,
   "id": "485a7c4a",
   "metadata": {},
   "outputs": [],
   "source": [
    "from aigovernance.responsibleML importresponsibleML\n"
   ]
  },
  {
   "cell_type": "code",
   "execution_count": null,
   "id": "c1cc4090-d8d9-4f37-a765-1462b160878b",
   "metadata": {},
   "outputs": [],
   "source": [
    "#Create a Model List\n",
    "models = rai_models()"
   ]
  },
  {
   "cell_type": "markdown",
   "id": "6a2b2aea-d43a-47c8-8be0-4f39a5f4b47a",
   "metadata": {},
   "source": [
    "### Data Pre Processing"
   ]
  },
  {
   "cell_type": "code",
   "execution_count": null,
   "id": "f42f3819-eb0e-4a37-a2bd-2d83265a8caa",
   "metadata": {},
   "outputs": [],
   "source": [
    "titanic_df = pd.read_csv('../data/titanic.csv')\n",
    "titanic_df.head(3)"
   ]
  },
  {
   "cell_type": "code",
   "execution_count": null,
   "id": "e20e2283-5629-4232-a699-f3b3d831d921",
   "metadata": {},
   "outputs": [],
   "source": [
    "# Remove all na value from test set \n",
    "titanic_df['Age'].fillna(titanic_df['Age'].mean(), inplace = True)\n",
    "titanic_df['Embarked'].fillna('N', inplace = True)"
   ]
  },
  {
   "cell_type": "code",
   "execution_count": null,
   "id": "19d11931-cd1b-446f-b828-2b109055d6c2",
   "metadata": {},
   "outputs": [],
   "source": [
    "def encode_features(dataDF) :\n",
    "    features = ['Sex','Embarked']\n",
    "    \n",
    "    for feature in features :\n",
    "        le = preprocessing.LabelEncoder()\n",
    "        le = le.fit(dataDF[feature])\n",
    "        dataDF[feature] = le.transform(dataDF[feature])\n",
    "        \n",
    "    return dataDF\n",
    "\n",
    "titanic_df = encode_features(titanic_df)\n",
    "titanic_df.head()"
   ]
  },
  {
   "cell_type": "code",
   "execution_count": null,
   "id": "af585345-b607-447b-9a1d-0db5d06d45a5",
   "metadata": {},
   "outputs": [],
   "source": [
    "# Drop the unnecessary field (Name)\n",
    "titanic_df.drop(['Name'], axis = 1, inplace = True)"
   ]
  },
  {
   "cell_type": "code",
   "execution_count": null,
   "id": "40a0442f-7767-4eed-ab8b-a371adc6ca6f",
   "metadata": {},
   "outputs": [],
   "source": [
    "y_titanic_df = titanic_df['target']\n",
    "X_titanic_df = titanic_df.drop('target', axis = 1)"
   ]
  },
  {
   "cell_type": "markdown",
   "id": "b3f7827c-addc-4d2a-8954-3a53b4410362",
   "metadata": {},
   "source": [
    "### Model 1:  Decision Tree"
   ]
  },
  {
   "cell_type": "markdown",
   "id": "61e2489a-0f20-4125-8a75-94d459d5fe57",
   "metadata": {},
   "source": [
    "#### 1.1 Decision Tree - RAI Model"
   ]
  },
  {
   "cell_type": "code",
   "execution_count": null,
   "id": "aa248eab-6a72-453e-a928-b075cb156870",
   "metadata": {},
   "outputs": [],
   "source": [
    "# Create a responsible model\n",
    "dt_model = sklearnmodel(\"decision_tree\", ProblemType.BINARY)"
   ]
  },
  {
   "cell_type": "markdown",
   "id": "44fe4f06-6c9e-4158-a11c-f4a770fd5427",
   "metadata": {},
   "source": [
    "#### 1.2 Decision RAI Model:  Calculate Class Imbalance"
   ]
  },
  {
   "cell_type": "code",
   "execution_count": null,
   "id": "1a3758f5-cca0-45eb-b629-770b092d7c25",
   "metadata": {},
   "outputs": [],
   "source": [
    "# Calcualate Class Imbalance\n",
    "dt_model.calculate_class_balance(y_titanic_df)"
   ]
  },
  {
   "cell_type": "markdown",
   "id": "5f12c2e0-6973-470a-a6d6-7338d38e646c",
   "metadata": {},
   "source": [
    "#### 1.3 Decision RAI Model:  Start Emissions Tracker"
   ]
  },
  {
   "cell_type": "code",
   "execution_count": null,
   "id": "f4a4293e-2687-4d88-8e8a-6c73f386179f",
   "metadata": {},
   "outputs": [],
   "source": [
    "dt_model.start_emissions_tracker()"
   ]
  },
  {
   "cell_type": "code",
   "execution_count": null,
   "id": "b75d6553-90ea-47ee-a70a-cd5441429bbf",
   "metadata": {},
   "outputs": [],
   "source": [
    "from sklearn.tree import DecisionTreeClassifier\n",
    "from sklearn.metrics import accuracy_score\n",
    "from sklearn.model_selection import train_test_split\n",
    "\n",
    "\n",
    "X_train, X_test, y_train, y_test = train_test_split(X_titanic_df, y_titanic_df, test_size=0.2, random_state = 11)\n",
    "\n",
    "dt_clf = DecisionTreeClassifier(random_state = 11)\n",
    "\n",
    "dt_clf.fit(X_train, y_train)\n",
    "dt_pred = dt_clf.predict(X_test)\n",
    "print(\"== DecisionTree Accuracy : {0:.4f}\".format(accuracy_score(y_test, dt_pred)))\n",
    "\n",
    "dt_accuracy = accuracy_score(y_test, dt_pred)\n",
    "dt_model.set_model_accuracy(dt_accuracy)"
   ]
  },
  {
   "cell_type": "markdown",
   "id": "911c25f3-a392-4885-baec-92537d8a4467",
   "metadata": {},
   "source": [
    "#### 1.4 Decision RAI Model:  Stop Emissions Tracker"
   ]
  },
  {
   "cell_type": "code",
   "execution_count": null,
   "id": "34ea1ba6-e188-4013-a7d2-889cd3801eb9",
   "metadata": {},
   "outputs": [],
   "source": [
    "# Stop the CO2 tracker\n",
    "dt_model.stop_emissions_tracker()"
   ]
  },
  {
   "cell_type": "markdown",
   "id": "fc73b817-ad62-451e-8c5a-2eaddedd2c0a",
   "metadata": {},
   "source": [
    "#### 1.5 Decision RAI Model:  Calculate Interpretability"
   ]
  },
  {
   "cell_type": "code",
   "execution_count": null,
   "id": "3d7a3410-417b-4ac2-8c75-85276f9c6f20",
   "metadata": {},
   "outputs": [],
   "source": [
    "# calculate Interpretability\n",
    "dt_model.calculate_interpretability(\"treebased\", dt_clf, X_titanic_df)"
   ]
  },
  {
   "cell_type": "markdown",
   "id": "754c7e79-d535-4799-b943-18f817900587",
   "metadata": {},
   "source": [
    "#### 1.6 Decision RAI Model:  Add model to RAI Models"
   ]
  },
  {
   "cell_type": "code",
   "execution_count": null,
   "id": "d9f34316-2741-4b75-9dd4-c73038ff98b5",
   "metadata": {},
   "outputs": [],
   "source": [
    "models.add_model(dt_model)"
   ]
  },
  {
   "cell_type": "code",
   "execution_count": null,
   "id": "0a7a17e2-b4b2-4b24-8a5b-df632eaed767",
   "metadata": {},
   "outputs": [],
   "source": [
    "print(\"Class Balance Index : \" + str(dt_model.get_class_balance_index()))\n",
    "print(\"Emissions Index : \" + str(dt_model.get_emissions_index()))\n",
    "print(\"Interpreability Index : \" + str(dt_model.get_interpretability_index()))"
   ]
  },
  {
   "cell_type": "code",
   "execution_count": null,
   "id": "7c9beb3a-c659-4e1d-a61e-9fb12882d451",
   "metadata": {},
   "outputs": [],
   "source": [
    "dt_model.get_model_info()"
   ]
  },
  {
   "cell_type": "markdown",
   "id": "440a3561-e572-4290-8436-5eaf718cc215",
   "metadata": {},
   "source": [
    "### Model 2:  Random Forest"
   ]
  },
  {
   "cell_type": "markdown",
   "id": "cc83ed33-3a3a-4332-b5ab-56dc00fb9dbc",
   "metadata": {},
   "source": [
    "#### Random Forest - Data Prep"
   ]
  },
  {
   "cell_type": "code",
   "execution_count": null,
   "id": "8c8d0010-c9e3-4257-bf68-b1c13b3c9c94",
   "metadata": {},
   "outputs": [],
   "source": [
    "indexes = titanic_df[ (titanic_df['target'] == 1) & (titanic_df['Age'] > 20)].index\n",
    "rfmodel_df = titanic_df.drop(indexes)\n",
    "\n",
    "y_rf_titanic_df = rfmodel_df['target']\n",
    "x_rf_titanic_df = rfmodel_df.drop('target', axis = 1)"
   ]
  },
  {
   "cell_type": "markdown",
   "id": "7a402fb9-6bb4-432a-9fcf-3e448f7372b7",
   "metadata": {},
   "source": [
    "#### 2.1 Random Forest - RAI Model"
   ]
  },
  {
   "cell_type": "code",
   "execution_count": null,
   "id": "7228e29a-5006-4bf9-9fb1-fda4008ea031",
   "metadata": {},
   "outputs": [],
   "source": [
    "rf_model = sklearnmodel(\"random_forest\", ProblemType.BINARY)"
   ]
  },
  {
   "cell_type": "markdown",
   "id": "ea2310e0-891f-4d90-8cc8-afa951d154dc",
   "metadata": {},
   "source": [
    "#### 2.2 Random Forest RAI Model:  Calculate Class Imbalance"
   ]
  },
  {
   "cell_type": "code",
   "execution_count": null,
   "id": "e96db9d7-8411-4a2d-8047-d22155db9539",
   "metadata": {},
   "outputs": [],
   "source": [
    "rf_model.calculate_class_balance(y_rf_titanic_df)"
   ]
  },
  {
   "cell_type": "code",
   "execution_count": null,
   "id": "1eef61a0-0421-4300-94d8-e154727379de",
   "metadata": {},
   "outputs": [],
   "source": [
    "print(\"Class Balance Index : \" + str(rf_model.get_class_balance_index()))\n",
    "rf_model.get_class_balance()"
   ]
  },
  {
   "cell_type": "markdown",
   "id": "1bc2f233-2aea-47fb-9e0a-a022f65aaecf",
   "metadata": {},
   "source": [
    "#### 2.3 Random Forest RAI Model:  Start Emissions Tracker"
   ]
  },
  {
   "cell_type": "code",
   "execution_count": null,
   "id": "fd969891-48ff-4d13-8703-d65e0f89a130",
   "metadata": {},
   "outputs": [],
   "source": [
    "rf_model.start_emissions_tracker()"
   ]
  },
  {
   "cell_type": "code",
   "execution_count": null,
   "id": "377a332d-1890-4c35-9bf4-a7ee1153fa92",
   "metadata": {},
   "outputs": [],
   "source": [
    "#2. RandomForest \n",
    "from sklearn.ensemble import RandomForestClassifier\n",
    "from sklearn.model_selection import train_test_split\n",
    "\n",
    "X_train, X_test, y_train, y_test = train_test_split(x_rf_titanic_df,y_rf_titanic_df, test_size=0.2, random_state = 11)\n",
    "\n",
    "rf_clf = RandomForestClassifier(random_state = 11)\n",
    "rf_clf.fit(X_train, y_train)\n",
    "rf_pred = rf_clf.predict(X_test)\n",
    "print(\"== RandomForest Accuracy : {0:.4f}\".format(accuracy_score(y_test, rf_pred)))\n",
    "\n",
    "rf_accuracy = accuracy_score(y_test, rf_pred)\n",
    "rf_model.set_model_accuracy(rf_accuracy)"
   ]
  },
  {
   "cell_type": "markdown",
   "id": "c4ebd087-6c49-49df-a82d-9b98437f4807",
   "metadata": {},
   "source": [
    "#### 2.4 Random Forest RAI Model:  Stop Emissions Tracker"
   ]
  },
  {
   "cell_type": "code",
   "execution_count": null,
   "id": "2a365baa-fd91-4eda-ab68-2c5f7eb878fa",
   "metadata": {},
   "outputs": [],
   "source": [
    "rf_model.stop_emissions_tracker()"
   ]
  },
  {
   "cell_type": "markdown",
   "id": "1f0d7d92-37d2-4199-a1e5-d6ceb7797dc3",
   "metadata": {},
   "source": [
    "#### 2.5 Random Forest RAI Model:  Calculate Interpretability"
   ]
  },
  {
   "cell_type": "code",
   "execution_count": null,
   "id": "6423a2dc-b0e1-43f0-b9a5-d923d5154140",
   "metadata": {},
   "outputs": [],
   "source": [
    "# calculate Interpretability\n",
    "rf_model.calculate_interpretability(\"treebased\", rf_clf, x_rf_titanic_df)"
   ]
  },
  {
   "cell_type": "markdown",
   "id": "0e5c6156-dfa9-44f0-b053-37044f8ccbe6",
   "metadata": {},
   "source": [
    "#### 2.6 Random Forest RAI Model:  Add model to RAI Models"
   ]
  },
  {
   "cell_type": "code",
   "execution_count": null,
   "id": "c83dabf5-5e08-478f-bb46-ea3398b0110d",
   "metadata": {},
   "outputs": [],
   "source": [
    "models.add_model(rf_model)"
   ]
  },
  {
   "cell_type": "code",
   "execution_count": null,
   "id": "c82c50ed-2f77-46d9-a3bc-700a913c4a6d",
   "metadata": {},
   "outputs": [],
   "source": [
    "print(\"Class Balance Index : \" + str(rf_model.get_class_balance_index()))\n",
    "print(\"Emissions Index : \" + str(rf_model.get_emissions_index()))\n",
    "print(\"Interpreability Index : \" + str(rf_model.get_interpretability_index()))"
   ]
  },
  {
   "cell_type": "code",
   "execution_count": null,
   "id": "fe606779-173b-46b6-b2f7-1a0ba7a132d2",
   "metadata": {},
   "outputs": [],
   "source": [
    "rf_model.get_model_info()"
   ]
  },
  {
   "cell_type": "markdown",
   "id": "51b82e86-4f78-4ae4-96a3-8b31df6ea838",
   "metadata": {},
   "source": [
    "### Model 3:  Logistic Regression"
   ]
  },
  {
   "cell_type": "code",
   "execution_count": null,
   "id": "89d071d3-049b-4476-b532-c8088f230042",
   "metadata": {},
   "outputs": [],
   "source": [
    "# Drop the unnecessary field (Name)\n",
    "\n",
    "lrmodel_df = titanic_df.drop(['PassengerId', 'Age'], axis = 1)\n",
    "\n"
   ]
  },
  {
   "cell_type": "code",
   "execution_count": null,
   "id": "d43743ef-45c6-4496-88a9-04c436fca6a0",
   "metadata": {},
   "outputs": [],
   "source": [
    "y_lr_titanic_df = lrmodel_df['target']\n",
    "x_lr_titanic_df = lrmodel_df.drop('target', axis = 1)"
   ]
  },
  {
   "cell_type": "markdown",
   "id": "99db8c35-e02a-4ae1-ba97-6753796fb04b",
   "metadata": {},
   "source": [
    "#### 3.1 Logistic Regression - RAI Model"
   ]
  },
  {
   "cell_type": "code",
   "execution_count": null,
   "id": "e6cbbb0a-6d4c-48e4-8ae0-1e75ec82cfd5",
   "metadata": {},
   "outputs": [],
   "source": [
    "lr_model = sklearnmodel(\"logistic_regression\", ProblemType.BINARY)"
   ]
  },
  {
   "cell_type": "markdown",
   "id": "2e20e6e8-0fe1-47e8-a643-fe7531107be0",
   "metadata": {},
   "source": [
    "#### 3.2 Logistic Regression RAI Model:  Calculate Class Imbalance"
   ]
  },
  {
   "cell_type": "code",
   "execution_count": null,
   "id": "1bc21822-ede7-4535-ba7f-2afe5d19eb88",
   "metadata": {},
   "outputs": [],
   "source": [
    "lr_model.calculate_class_balance(y_lr_titanic_df)"
   ]
  },
  {
   "cell_type": "markdown",
   "id": "9b08bf56-432c-462e-95bc-fd8ea3b6b36d",
   "metadata": {},
   "source": [
    "#### 3.3 Logistic Regression RAI Model:  Start Emissions tracker"
   ]
  },
  {
   "cell_type": "code",
   "execution_count": null,
   "id": "e0ae9e75-a141-4fab-acb4-b53bcb70844b",
   "metadata": {},
   "outputs": [],
   "source": [
    "lr_model.start_emissions_tracker()"
   ]
  },
  {
   "cell_type": "code",
   "execution_count": null,
   "id": "400617b4-bc38-4546-8377-65428c07163b",
   "metadata": {},
   "outputs": [],
   "source": [
    "#3. LogisticRegression\n",
    "from sklearn.linear_model import LogisticRegression\n",
    "from sklearn.model_selection import train_test_split\n",
    "from sklearn.feature_extraction.text import TfidfVectorizer\n",
    "\n",
    "X_train, X_test, y_train, y_test = train_test_split(x_lr_titanic_df, y_lr_titanic_df, test_size=0.2, random_state = 11)\n",
    "\n",
    "lr_clf = LogisticRegression()\n",
    "\n",
    "lr_clf.fit(X_train, y_train)\n",
    "lr_pred = lr_clf.predict(X_test)\n",
    "print(\"== LogisticRegression Accuracy : {0:.4f}\".format(accuracy_score(y_test, lr_pred)))\n",
    "\n",
    "lr_accuracy = accuracy_score(y_test, lr_pred)\n",
    "lr_model.set_model_accuracy(lr_accuracy)"
   ]
  },
  {
   "cell_type": "markdown",
   "id": "986b73a7-6d35-422c-a330-0adb86ab358b",
   "metadata": {},
   "source": [
    "#### 3.4 Logistic Regression RAI Model:  Stop Emissions tracker"
   ]
  },
  {
   "cell_type": "code",
   "execution_count": null,
   "id": "f164ea39-0f6e-4912-806b-10403e9e8125",
   "metadata": {},
   "outputs": [],
   "source": [
    "lr_model.stop_emissions_tracker()"
   ]
  },
  {
   "cell_type": "markdown",
   "id": "15ce7e4e-281c-467a-aebd-3f00278ad746",
   "metadata": {},
   "source": [
    "#### 3.5 Logistic Regression RAI Model:  Calculate Interpretability"
   ]
  },
  {
   "cell_type": "code",
   "execution_count": null,
   "id": "81aac56d-2304-44a6-a559-5c094d1f7fdf",
   "metadata": {},
   "outputs": [],
   "source": [
    "# calculate Interpretability\n",
    "lr_model.calculate_interpretability(\"linear\", lr_clf, x_lr_titanic_df)"
   ]
  },
  {
   "cell_type": "markdown",
   "id": "d8372522-b2c8-43b9-8891-a100b74380a3",
   "metadata": {},
   "source": [
    "#### 3.6 Logistic Regression RAI Model:  Add Model to RAI model list"
   ]
  },
  {
   "cell_type": "code",
   "execution_count": null,
   "id": "bfd13946-2711-4087-9595-254095a1507c",
   "metadata": {},
   "outputs": [],
   "source": [
    "models.add_model(lr_model)"
   ]
  },
  {
   "cell_type": "code",
   "execution_count": null,
   "id": "89110818-0983-4fab-b236-cd09f37490dc",
   "metadata": {},
   "outputs": [],
   "source": [
    "lr_model.get_model_info()"
   ]
  },
  {
   "cell_type": "markdown",
   "id": "b22c8844-0cc7-44b6-84ef-d7b8f628cef4",
   "metadata": {},
   "source": [
    "### Model 4:  PyTorch Model"
   ]
  },
  {
   "cell_type": "markdown",
   "id": "d7b6fb8c-5234-43c3-b01f-31dcfaf0ca17",
   "metadata": {},
   "source": [
    "#### 4.1 PyTorch Model - RAI Model"
   ]
  },
  {
   "cell_type": "code",
   "execution_count": null,
   "id": "174bd2c0-9804-4d61-b0bd-9c7b4b80297f",
   "metadata": {},
   "outputs": [],
   "source": [
    "py_model = pytorchmodel(\"Pytorch\", ProblemType.BINARY)"
   ]
  },
  {
   "cell_type": "code",
   "execution_count": null,
   "id": "628e7792-581c-4a8f-9007-295d11f27402",
   "metadata": {},
   "outputs": [],
   "source": [
    "# converting dataframe to numpy array\n",
    "labels = titanic_df[\"target\"].to_numpy()\n",
    "\n",
    "df_cleaned = titanic_df.drop(['target'], axis=1)\n",
    "feature_names = list(df_cleaned.columns)\n",
    "features = df_cleaned.to_numpy()\n",
    "\n",
    "# loading data into torch tensor\n",
    "feature_tensor = torch.from_numpy(features).type(torch.FloatTensor)\n",
    "label_tensor = torch.from_numpy(labels)\n",
    "\n",
    "# loading data into torch dataset\n",
    "train_dataset = torch.utils.data.TensorDataset(feature_tensor, label_tensor)\n",
    "\n",
    "# loading data into torch dataloader\n",
    "batch_size = 32\n",
    "train_dataloader = torch.utils.data.DataLoader(train_dataset, batch_size=batch_size, shuffle=True)"
   ]
  },
  {
   "cell_type": "markdown",
   "id": "ce9085cf-e0c8-4d4c-b3c4-91e049446fab",
   "metadata": {},
   "source": [
    "#### 4.2 PyTorch RAI Model:  Calculate Class Imbalance"
   ]
  },
  {
   "cell_type": "code",
   "execution_count": null,
   "id": "ce3a38c5-c365-4f0d-9a8d-5501e7b8cb73",
   "metadata": {},
   "outputs": [],
   "source": [
    "py_model.calculate_class_balance(y_titanic_df)"
   ]
  },
  {
   "cell_type": "markdown",
   "id": "5d13cdb7-a149-4537-8fa1-e8b7838022c2",
   "metadata": {},
   "source": [
    "#### 4.3 PyTorch RAI Model:  Start Emissions tracker"
   ]
  },
  {
   "cell_type": "code",
   "execution_count": null,
   "id": "65646cf3-d566-4461-a896-e704a9d52c9f",
   "metadata": {},
   "outputs": [],
   "source": [
    "py_model.start_emissions_tracker()"
   ]
  },
  {
   "cell_type": "code",
   "execution_count": null,
   "id": "8c4fc8e7-5cd2-4a22-9141-c279012103e3",
   "metadata": {},
   "outputs": [],
   "source": [
    "class TitanicModel(nn.Module):\n",
    "    def __init__(self):\n",
    "        super().__init__()\n",
    "        self.linear1 = nn.Linear(7, 7)\n",
    "        self.sigmoid1 = nn.Sigmoid()\n",
    "        self.linear2 = nn.Linear(7, 5)\n",
    "        self.sigmoid2 = nn.Sigmoid()\n",
    "        self.linear3 = nn.Linear(5, 2)\n",
    "        self.softmax = nn.Softmax(dim=1)\n",
    "\n",
    "    def forward(self, x):\n",
    "        lin1_out = self.linear1(x)\n",
    "        sigmoid_out1 = self.sigmoid1(lin1_out)\n",
    "        sigmoid_out2 = self.sigmoid2(self.linear2(sigmoid_out1))\n",
    "        return self.softmax(self.linear3(sigmoid_out2))"
   ]
  },
  {
   "cell_type": "code",
   "execution_count": null,
   "id": "499befeb-2d38-40b4-b4bd-9fdd02c6ca61",
   "metadata": {},
   "outputs": [],
   "source": [
    "def train(trainloader, model, optimizer):\n",
    "    \n",
    "    loss_fn = nn.CrossEntropyLoss()\n",
    "    epochs = 100\n",
    "    \n",
    "    for epoch in range(epochs):\n",
    "        for i, (features, label) in enumerate(train_dataloader):\n",
    "            # Forward pass\n",
    "            y_pred = model(features)\n",
    "            loss = loss_fn(y_pred, label)\n",
    "\n",
    "            # Backward and optimize\n",
    "            optimizer.zero_grad()\n",
    "            loss.backward()\n",
    "            optimizer.step()\n",
    "\n",
    "            if (i+1) % 10 == 0:\n",
    "                print ('Epoch [{}/{}], Step [{}/{}], Loss: {:.4f}' \n",
    "                       .format(epoch+1, epochs, i+1, len(train_dataloader), loss.item()))\n",
    "                train_acc = torch.sum(y_pred == label)\n",
    "                print(train_acc)\n",
    "\n",
    "    return model"
   ]
  },
  {
   "cell_type": "code",
   "execution_count": null,
   "id": "bc88d637-fc23-4c09-8c6d-5a2307deff26",
   "metadata": {},
   "outputs": [],
   "source": [
    "vanilla_model = TitanicModel()\n",
    "optimizer = torch.optim.Adam(vanilla_model.parameters(), lr=0.001)\n",
    "trained_vanilla_model = train(train_dataloader, vanilla_model, optimizer)\n"
   ]
  },
  {
   "cell_type": "code",
   "execution_count": null,
   "id": "a88a74b4-a720-4d55-a814-fa8b7abf07d4",
   "metadata": {},
   "outputs": [],
   "source": [
    "X_titanic_df.values"
   ]
  },
  {
   "cell_type": "markdown",
   "id": "a7e7d6e1-324e-4ad5-ab1f-1123a2a2ba06",
   "metadata": {},
   "source": [
    "#### 4.4 PyTorch RAI Model:  Stop Emissions tracker"
   ]
  },
  {
   "cell_type": "code",
   "execution_count": null,
   "id": "00f20abf-c2f8-4495-a267-eb8bb8c22a5d",
   "metadata": {},
   "outputs": [],
   "source": [
    "py_model.stop_emissions_tracker()"
   ]
  },
  {
   "cell_type": "markdown",
   "id": "9fb879d9-bc18-4427-8276-871fb4a4e97c",
   "metadata": {},
   "source": [
    "#### 4.5 PyTorch RAI Model:  Calculate Interpretability"
   ]
  },
  {
   "cell_type": "code",
   "execution_count": null,
   "id": "1567691e-faf5-4df0-9c6d-673251d6d571",
   "metadata": {},
   "outputs": [],
   "source": [
    "# calculate Interpretability\n",
    "py_model.calculate_interpretability(feature_tensor, trained_vanilla_model, target_class=1)"
   ]
  },
  {
   "cell_type": "markdown",
   "id": "9d503406-32f6-46f3-ac54-80afcf76c9d2",
   "metadata": {},
   "source": [
    "#### 4.6 PyTorch RAI Model:  Add Model"
   ]
  },
  {
   "cell_type": "code",
   "execution_count": null,
   "id": "7d66e018-0a39-457c-85a6-39ae5c69358f",
   "metadata": {},
   "outputs": [],
   "source": [
    "models.add_model(py_model)"
   ]
  },
  {
   "cell_type": "code",
   "execution_count": null,
   "id": "35142d3c-61ad-4906-9e5a-387aaa474763",
   "metadata": {},
   "outputs": [],
   "source": [
    "py_model.get_model_info()"
   ]
  },
  {
   "cell_type": "markdown",
   "id": "ee162ba5-b272-48ee-b977-95f6b9b4fcab",
   "metadata": {},
   "source": [
    "### Calculate Responsible Metrics"
   ]
  },
  {
   "cell_type": "markdown",
   "id": "08bf6f93-882d-484c-9e6d-33a55a12f5b0",
   "metadata": {},
   "source": [
    "#### List all models"
   ]
  },
  {
   "cell_type": "code",
   "execution_count": null,
   "id": "f58bfbd9-3188-4b94-b832-a0e7fa7b3a57",
   "metadata": {},
   "outputs": [],
   "source": [
    "# List all Models \n",
    "model_json = models.list_models()\n",
    "model_json"
   ]
  },
  {
   "cell_type": "code",
   "execution_count": null,
   "id": "53a68c75-d663-4582-859d-f18363895af8",
   "metadata": {},
   "outputs": [],
   "source": [
    "# Rank them by RAI index\n",
    "df_models = pd.read_json(model_json)"
   ]
  },
  {
   "cell_type": "code",
   "execution_count": null,
   "id": "00cbe981-2810-424d-99d6-9c9d40d08065",
   "metadata": {},
   "outputs": [],
   "source": [
    "# Visualize\n",
    "df_models.head(5)"
   ]
  },
  {
   "cell_type": "code",
   "execution_count": null,
   "id": "0f5d6904-b785-46d3-90a5-5e0d991ab2c9",
   "metadata": {},
   "outputs": [],
   "source": [
    "from matplotlib import pyplot as plt\n",
    "import seaborn as sns"
   ]
  },
  {
   "cell_type": "code",
   "execution_count": null,
   "id": "d741fc62-2915-4a9a-9860-2e2328ad5d03",
   "metadata": {},
   "outputs": [],
   "source": [
    "\n",
    "#sns.lineplot('model name', 'interpretability', data=df_models)\n",
    "sns.scatterplot('model name', 'emissions', data=df_models)"
   ]
  },
  {
   "cell_type": "code",
   "execution_count": null,
   "id": "15fbdfca-7914-4170-9dbe-6c642ee0bc78",
   "metadata": {},
   "outputs": [],
   "source": [
    "df_models.to_csv(\"temp.csv\")"
   ]
  },
  {
   "cell_type": "code",
   "execution_count": null,
   "id": "25aa021e-48bc-468f-ab4b-6fb09fbc9e53",
   "metadata": {},
   "outputs": [],
   "source": []
  }
 ],
 "metadata": {
  "kernelspec": {
   "display_name": "default:Python",
   "language": "python",
   "name": "conda-env-default-py"
  },
  "language_info": {
   "codemirror_mode": {
    "name": "ipython",
    "version": 3
   },
   "file_extension": ".py",
   "mimetype": "text/x-python",
   "name": "python",
   "nbconvert_exporter": "python",
   "pygments_lexer": "ipython3",
   "version": "3.9.12"
  }
 },
 "nbformat": 4,
 "nbformat_minor": 5
}
